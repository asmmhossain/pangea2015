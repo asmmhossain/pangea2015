{
 "metadata": {
  "name": "",
  "signature": "sha256:6beff83369741551ba4ba5f7ee97244e6d48802b34b297a80e8a41b26f542e24"
 },
 "nbformat": 3,
 "nbformat_minor": 0,
 "worksheets": [
  {
   "cells": [
    {
     "cell_type": "markdown",
     "metadata": {},
     "source": [
      "Village data\n",
      "\n",
      "8000 individuals, simulated over 70 years\n",
      "Model contains gender, risk group, acute/chronic/AIDS\n",
      "Contamination from outside\n",
      "Labels contain ID, date, DOB, and gender\n",
      "Sequences sampled over a three year period\n",
      "gag/pol/env 1-1479, 1480-4479, 4480-6987\n",
      "GTR model?\n",
      "3x3 simulations\n",
      "    time periods of increasing, decreasing or stationary incidence\n",
      "    3 sampling fractions?"
     ]
    },
    {
     "cell_type": "code",
     "collapsed": false,
     "input": [
      "%load_ext rpy2.ipython\n",
      "%Rdevice svg"
     ],
     "language": "python",
     "metadata": {},
     "outputs": [
      {
       "output_type": "stream",
       "stream": "stdout",
       "text": [
        "The rpy2.ipython extension is already loaded. To reload it, use:\n",
        "  %reload_ext rpy2.ipython\n"
       ]
      }
     ],
     "prompt_number": 2
    },
    {
     "cell_type": "code",
     "collapsed": false,
     "input": [
      "%%R\n",
      "library(ape)\n",
      "library(magrittr)\n",
      "library(phangorn)\n",
      "library(adephylo)"
     ],
     "language": "python",
     "metadata": {},
     "outputs": [
      {
       "metadata": {},
       "output_type": "display_data",
       "text": [
        "Loading required package: ade4\n",
        "\n",
        "Attaching package: \u2018adephylo\u2019\n",
        "\n",
        "The following object is masked from \u2018package:ade4\u2019:\n",
        "\n",
        "    orthogram\n",
        "\n"
       ]
      }
     ],
     "prompt_number": 3
    },
    {
     "cell_type": "code",
     "collapsed": false,
     "input": [
      "%%R\n",
      "villagedir <- \"../rawdata/Village\""
     ],
     "language": "python",
     "metadata": {},
     "outputs": [],
     "prompt_number": 4
    },
    {
     "cell_type": "code",
     "collapsed": false,
     "input": [
      "%%R\n",
      "seqdirs <- list.dirs(villagedir)\n",
      "seqdirs <- seqdirs[2:length(seqdirs)]\n",
      "seqdata.fn <- c()\n",
      "stubs <- c()\n",
      "for(i in 1:length(seqdirs)){\n",
      "    fas <- list.files(seqdirs[i],pattern=\"fasta\")\n",
      "    if(length(fas)>0){\n",
      "        seqdata.fn <- c(seqdata.fn,paste(seqdirs[i],\"/\",fas,sep=\"\"))\n",
      "        stubs <- c(stubs,gsub(\".fasta\",\"\",fas,fixed=TRUE))\n",
      "    }\n",
      "}"
     ],
     "language": "python",
     "metadata": {},
     "outputs": [],
     "prompt_number": 5
    },
    {
     "cell_type": "code",
     "collapsed": false,
     "input": [
      "%%R\n",
      "gag <- seq(1,1479)\n",
      "pol <- seq(1480,4479)\n",
      "env <- seq(4480,6987)"
     ],
     "language": "python",
     "metadata": {},
     "outputs": [],
     "prompt_number": 6
    },
    {
     "cell_type": "code",
     "collapsed": false,
     "input": [
      "%%R\n",
      "numsc <- length(seqdata.fn)\n",
      "seqdata <- list()\n",
      "for(i in 1:numsc){\n",
      "    seqdata[[i]] <- read.dna(seqdata.fn[i],format=\"fasta\",as.matrix=TRUE)\n",
      "}"
     ],
     "language": "python",
     "metadata": {},
     "outputs": [],
     "prompt_number": 7
    },
    {
     "cell_type": "code",
     "collapsed": false,
     "input": [
      "s=\"\"\"DNA, gag = 1-1479\n",
      "DNA, pol = 1480-4479\n",
      "DNA, env = 4480-6987\\n\"\"\"\n",
      "f=open(\"villages_partition\",'w')\n",
      "f.write(s)\n",
      "f.close()"
     ],
     "language": "python",
     "metadata": {},
     "outputs": [],
     "prompt_number": 8
    },
    {
     "cell_type": "code",
     "collapsed": false,
     "input": [
      "%%R\n",
      "for(i in 1:numsc){\n",
      "    s <- seqdata[[i]]\n",
      "    snames <- row.names(s)\n",
      "    o <- order(snames)\n",
      "    snames <- snames[o]\n",
      "    write.dna(s,paste(stubs[i],\".fas\",sep=\"\"),format=\"fasta\",nbcol=-1,colsep=\"\")\n",
      "}"
     ],
     "language": "python",
     "metadata": {},
     "outputs": [],
     "prompt_number": 9
    },
    {
     "cell_type": "code",
     "collapsed": false,
     "input": [
      "%%R\n",
      "for(i in 1:numsc){\n",
      "    s <- seqdata[[i]][,pol]\n",
      "    snames <- row.names(s)\n",
      "    o <- order(snames)\n",
      "    snames <- snames[o]\n",
      "    write.dna(s,paste(stubs[i],\"_pol.fas\",sep=\"\"),format=\"fasta\",nbcol=-1,colsep=\"\")\n",
      "}"
     ],
     "language": "python",
     "metadata": {},
     "outputs": [],
     "prompt_number": 10
    },
    {
     "cell_type": "code",
     "collapsed": false,
     "input": [],
     "language": "python",
     "metadata": {},
     "outputs": []
    }
   ],
   "metadata": {}
  }
 ]
}